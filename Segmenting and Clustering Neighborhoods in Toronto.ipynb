{
    "nbformat_minor": 1, 
    "cells": [
        {
            "execution_count": 1, 
            "cell_type": "code", 
            "metadata": {}, 
            "outputs": [], 
            "source": "import pandas as pd \nimport requests "
        }, 
        {
            "execution_count": 2, 
            "cell_type": "code", 
            "metadata": {}, 
            "outputs": [], 
            "source": "source = requests.get('https://en.wikipedia.org/wiki/List_of_postal_codes_of_Canada:_M').text "
        }, 
        {
            "execution_count": 3, 
            "cell_type": "code", 
            "metadata": {}, 
            "outputs": [], 
            "source": "from bs4 import BeautifulSoup \nsoup = BeautifulSoup(source, 'lxml')\n#print(soup.prettify())"
        }, 
        {
            "execution_count": 4, 
            "cell_type": "code", 
            "metadata": {}, 
            "outputs": [], 
            "source": "# Obtain only the table from the html data \ntable = soup.find('table', {'class' : 'wikitable sortable'})\n#table\n                            "
        }, 
        {
            "execution_count": 5, 
            "cell_type": "code", 
            "metadata": {}, 
            "outputs": [], 
            "source": "# The dataframe will consist of 3 columns, PostCode, Borough and Neighborhood \ndf = pd.read_html(str(table), header=0)\ndf = pd.DataFrame(df[0])"
        }, 
        {
            "execution_count": 6, 
            "cell_type": "code", 
            "metadata": {}, 
            "outputs": [], 
            "source": "# Only process the cells that have an assigned borough and ignore cells without assigned borough \ndf.drop(df[df.Borough == 'Not assigned'].index, inplace = True)"
        }, 
        {
            "execution_count": 7, 
            "cell_type": "code", 
            "metadata": {}, 
            "outputs": [], 
            "source": "# More than one neighborhoods can exist in one PostCode \ndf = df.groupby(\"Postcode\").agg(lambda x:','.join(set(x)))\ndf.reset_index(inplace = True)"
        }, 
        {
            "execution_count": 8, 
            "cell_type": "code", 
            "metadata": {}, 
            "outputs": [], 
            "source": "# For a cell with a borough but no assigned neighborhood, the neighborhood will be same as the borough \ndf.loc[df.Neighbourhood == 'Not assigned', 'Neighbourhood'] = df.loc[df.Neighbourhood == 'Not assigned', 'Borough']"
        }, 
        {
            "execution_count": 9, 
            "cell_type": "code", 
            "metadata": {}, 
            "outputs": [
                {
                    "execution_count": 9, 
                    "metadata": {}, 
                    "data": {
                        "text/plain": "(103, 3)"
                    }, 
                    "output_type": "execute_result"
                }
            ], 
            "source": "# In the last cell of your notebook, use the .shape method to print the number of rows of your dataframe \ndf.shape"
        }, 
        {
            "execution_count": 10, 
            "cell_type": "code", 
            "metadata": {}, 
            "outputs": [
                {
                    "execution_count": 10, 
                    "metadata": {}, 
                    "data": {
                        "text/html": "<div>\n<style scoped>\n    .dataframe tbody tr th:only-of-type {\n        vertical-align: middle;\n    }\n\n    .dataframe tbody tr th {\n        vertical-align: top;\n    }\n\n    .dataframe thead th {\n        text-align: right;\n    }\n</style>\n<table border=\"1\" class=\"dataframe\">\n  <thead>\n    <tr style=\"text-align: right;\">\n      <th></th>\n      <th>Postcode</th>\n      <th>Borough</th>\n      <th>Neighbourhood</th>\n    </tr>\n  </thead>\n  <tbody>\n    <tr>\n      <th>0</th>\n      <td>M1B</td>\n      <td>Scarborough</td>\n      <td>Malvern,Rouge</td>\n    </tr>\n    <tr>\n      <th>1</th>\n      <td>M1C</td>\n      <td>Scarborough</td>\n      <td>Highland Creek,Port Union,Rouge Hill</td>\n    </tr>\n    <tr>\n      <th>2</th>\n      <td>M1E</td>\n      <td>Scarborough</td>\n      <td>Morningside,West Hill,Guildwood</td>\n    </tr>\n    <tr>\n      <th>3</th>\n      <td>M1G</td>\n      <td>Scarborough</td>\n      <td>Woburn</td>\n    </tr>\n    <tr>\n      <th>4</th>\n      <td>M1H</td>\n      <td>Scarborough</td>\n      <td>Cedarbrae</td>\n    </tr>\n    <tr>\n      <th>5</th>\n      <td>M1J</td>\n      <td>Scarborough</td>\n      <td>Scarborough Village</td>\n    </tr>\n    <tr>\n      <th>6</th>\n      <td>M1K</td>\n      <td>Scarborough</td>\n      <td>Ionview,East Birchmount Park,Kennedy Park</td>\n    </tr>\n    <tr>\n      <th>7</th>\n      <td>M1L</td>\n      <td>Scarborough</td>\n      <td>Oakridge,Clairlea,Golden Mile</td>\n    </tr>\n    <tr>\n      <th>8</th>\n      <td>M1M</td>\n      <td>Scarborough</td>\n      <td>Cliffside,Scarborough Village West,Cliffcrest</td>\n    </tr>\n    <tr>\n      <th>9</th>\n      <td>M1N</td>\n      <td>Scarborough</td>\n      <td>Birch Cliff,Cliffside West</td>\n    </tr>\n  </tbody>\n</table>\n</div>", 
                        "text/plain": "  Postcode      Borough                                  Neighbourhood\n0      M1B  Scarborough                                  Malvern,Rouge\n1      M1C  Scarborough           Highland Creek,Port Union,Rouge Hill\n2      M1E  Scarborough                Morningside,West Hill,Guildwood\n3      M1G  Scarborough                                         Woburn\n4      M1H  Scarborough                                      Cedarbrae\n5      M1J  Scarborough                            Scarborough Village\n6      M1K  Scarborough      Ionview,East Birchmount Park,Kennedy Park\n7      M1L  Scarborough                  Oakridge,Clairlea,Golden Mile\n8      M1M  Scarborough  Cliffside,Scarborough Village West,Cliffcrest\n9      M1N  Scarborough                     Birch Cliff,Cliffside West"
                    }, 
                    "output_type": "execute_result"
                }
            ], 
            "source": "df.head(10)"
        }, 
        {
            "source": "### Get geospatial Data ", 
            "cell_type": "markdown", 
            "metadata": {}
        }, 
        {
            "execution_count": 11, 
            "cell_type": "code", 
            "metadata": {}, 
            "outputs": [], 
            "source": "import io "
        }, 
        {
            "execution_count": 12, 
            "cell_type": "code", 
            "metadata": {}, 
            "outputs": [
                {
                    "execution_count": 12, 
                    "metadata": {}, 
                    "data": {
                        "text/html": "<div>\n<style scoped>\n    .dataframe tbody tr th:only-of-type {\n        vertical-align: middle;\n    }\n\n    .dataframe tbody tr th {\n        vertical-align: top;\n    }\n\n    .dataframe thead th {\n        text-align: right;\n    }\n</style>\n<table border=\"1\" class=\"dataframe\">\n  <thead>\n    <tr style=\"text-align: right;\">\n      <th></th>\n      <th>Postal Code</th>\n      <th>Latitude</th>\n      <th>Longitude</th>\n    </tr>\n  </thead>\n  <tbody>\n    <tr>\n      <th>0</th>\n      <td>M1B</td>\n      <td>43.806686</td>\n      <td>-79.194353</td>\n    </tr>\n    <tr>\n      <th>1</th>\n      <td>M1C</td>\n      <td>43.784535</td>\n      <td>-79.160497</td>\n    </tr>\n    <tr>\n      <th>2</th>\n      <td>M1E</td>\n      <td>43.763573</td>\n      <td>-79.188711</td>\n    </tr>\n    <tr>\n      <th>3</th>\n      <td>M1G</td>\n      <td>43.770992</td>\n      <td>-79.216917</td>\n    </tr>\n    <tr>\n      <th>4</th>\n      <td>M1H</td>\n      <td>43.773136</td>\n      <td>-79.239476</td>\n    </tr>\n  </tbody>\n</table>\n</div>", 
                        "text/plain": "  Postal Code   Latitude  Longitude\n0         M1B  43.806686 -79.194353\n1         M1C  43.784535 -79.160497\n2         M1E  43.763573 -79.188711\n3         M1G  43.770992 -79.216917\n4         M1H  43.773136 -79.239476"
                    }, 
                    "output_type": "execute_result"
                }
            ], 
            "source": "url = 'http://cocl.us/Geospatial_data'\nS = requests.get(url).content \ngeospatial_data = pd.read_csv(io.StringIO(S.decode('utf-8')))\ngeospatial_data.head()"
        }, 
        {
            "execution_count": 13, 
            "cell_type": "code", 
            "metadata": {}, 
            "outputs": [], 
            "source": "#Rename columns so that they match \ndf.columns = ['Postalcode', 'Borough', 'Neighbourhood']\ngeospatial_data.columns = ['Postalcode', 'Latitude', 'Longitude']"
        }, 
        {
            "execution_count": 14, 
            "cell_type": "code", 
            "metadata": {}, 
            "outputs": [
                {
                    "execution_count": 14, 
                    "metadata": {}, 
                    "data": {
                        "text/html": "<div>\n<style scoped>\n    .dataframe tbody tr th:only-of-type {\n        vertical-align: middle;\n    }\n\n    .dataframe tbody tr th {\n        vertical-align: top;\n    }\n\n    .dataframe thead th {\n        text-align: right;\n    }\n</style>\n<table border=\"1\" class=\"dataframe\">\n  <thead>\n    <tr style=\"text-align: right;\">\n      <th></th>\n      <th>Postalcode</th>\n      <th>Borough</th>\n      <th>Neighbourhood</th>\n      <th>Latitude</th>\n      <th>Longitude</th>\n    </tr>\n  </thead>\n  <tbody>\n    <tr>\n      <th>0</th>\n      <td>M1B</td>\n      <td>Scarborough</td>\n      <td>Malvern,Rouge</td>\n      <td>43.806686</td>\n      <td>-79.194353</td>\n    </tr>\n    <tr>\n      <th>1</th>\n      <td>M1C</td>\n      <td>Scarborough</td>\n      <td>Highland Creek,Port Union,Rouge Hill</td>\n      <td>43.784535</td>\n      <td>-79.160497</td>\n    </tr>\n    <tr>\n      <th>2</th>\n      <td>M1E</td>\n      <td>Scarborough</td>\n      <td>Morningside,West Hill,Guildwood</td>\n      <td>43.763573</td>\n      <td>-79.188711</td>\n    </tr>\n    <tr>\n      <th>3</th>\n      <td>M1G</td>\n      <td>Scarborough</td>\n      <td>Woburn</td>\n      <td>43.770992</td>\n      <td>-79.216917</td>\n    </tr>\n    <tr>\n      <th>4</th>\n      <td>M1H</td>\n      <td>Scarborough</td>\n      <td>Cedarbrae</td>\n      <td>43.773136</td>\n      <td>-79.239476</td>\n    </tr>\n    <tr>\n      <th>5</th>\n      <td>M1J</td>\n      <td>Scarborough</td>\n      <td>Scarborough Village</td>\n      <td>43.744734</td>\n      <td>-79.239476</td>\n    </tr>\n    <tr>\n      <th>6</th>\n      <td>M1K</td>\n      <td>Scarborough</td>\n      <td>Ionview,East Birchmount Park,Kennedy Park</td>\n      <td>43.727929</td>\n      <td>-79.262029</td>\n    </tr>\n    <tr>\n      <th>7</th>\n      <td>M1L</td>\n      <td>Scarborough</td>\n      <td>Oakridge,Clairlea,Golden Mile</td>\n      <td>43.711112</td>\n      <td>-79.284577</td>\n    </tr>\n    <tr>\n      <th>8</th>\n      <td>M1M</td>\n      <td>Scarborough</td>\n      <td>Cliffside,Scarborough Village West,Cliffcrest</td>\n      <td>43.716316</td>\n      <td>-79.239476</td>\n    </tr>\n    <tr>\n      <th>9</th>\n      <td>M1N</td>\n      <td>Scarborough</td>\n      <td>Birch Cliff,Cliffside West</td>\n      <td>43.692657</td>\n      <td>-79.264848</td>\n    </tr>\n  </tbody>\n</table>\n</div>", 
                        "text/plain": "  Postalcode      Borough                                  Neighbourhood  \\\n0        M1B  Scarborough                                  Malvern,Rouge   \n1        M1C  Scarborough           Highland Creek,Port Union,Rouge Hill   \n2        M1E  Scarborough                Morningside,West Hill,Guildwood   \n3        M1G  Scarborough                                         Woburn   \n4        M1H  Scarborough                                      Cedarbrae   \n5        M1J  Scarborough                            Scarborough Village   \n6        M1K  Scarborough      Ionview,East Birchmount Park,Kennedy Park   \n7        M1L  Scarborough                  Oakridge,Clairlea,Golden Mile   \n8        M1M  Scarborough  Cliffside,Scarborough Village West,Cliffcrest   \n9        M1N  Scarborough                     Birch Cliff,Cliffside West   \n\n    Latitude  Longitude  \n0  43.806686 -79.194353  \n1  43.784535 -79.160497  \n2  43.763573 -79.188711  \n3  43.770992 -79.216917  \n4  43.773136 -79.239476  \n5  43.744734 -79.239476  \n6  43.727929 -79.262029  \n7  43.711112 -79.284577  \n8  43.716316 -79.239476  \n9  43.692657 -79.264848  "
                    }, 
                    "output_type": "execute_result"
                }
            ], 
            "source": "# Merge both dataframes \nneighborhood = pd.merge(df, geospatial_data, on = df['Postalcode'], right_index = True, left_index = True)\nneighborhood.drop('Postalcode_y', axis = 1, inplace = True)\nneighborhood.columns = ['Postalcode', 'Borough', 'Neighbourhood', 'Latitude', 'Longitude']\nneighborhood.head(10)"
        }, 
        {
            "execution_count": 15, 
            "cell_type": "code", 
            "metadata": {}, 
            "outputs": [
                {
                    "output_type": "stream", 
                    "name": "stdout", 
                    "text": "11\n['Scarborough' 'North York' 'East York' 'East Toronto' 'Central Toronto'\n 'Downtown Toronto' 'York' 'West Toronto' \"Queen's Park\" 'Mississauga'\n 'Etobicoke']\n"
                }
            ], 
            "source": "# Number of uniqueBoroughs in Toronto \nprint(len(neighborhood['Borough'].unique()))\nprint(neighborhood['Borough'].unique())"
        }, 
        {
            "execution_count": 16, 
            "cell_type": "code", 
            "metadata": {}, 
            "outputs": [
                {
                    "output_type": "stream", 
                    "name": "stdout", 
                    "text": "Fetching package metadata .............\nSolving package specifications: .\n\nPackage plan for installation in environment /opt/conda/envs/DSX-Python35:\n\nThe following NEW packages will be INSTALLED:\n\n    geographiclib: 1.49-py_0   conda-forge\n    geopy:         1.18.1-py_0 conda-forge\n\ngeographiclib- 100% |################################| Time: 0:00:00  24.93 MB/s\ngeopy-1.18.1-p 100% |################################| Time: 0:00:00  35.43 MB/s\nFetching package metadata .............\nSolving package specifications: .\n\nPackage plan for installation in environment /opt/conda/envs/DSX-Python35:\n\nThe following NEW packages will be INSTALLED:\n\n    altair:  2.2.2-py35_1 conda-forge\n    branca:  0.3.1-py_0   conda-forge\n    folium:  0.5.0-py_0   conda-forge\n    vincent: 0.4.4-py_1   conda-forge\n\naltair-2.2.2-p 100% |################################| Time: 0:00:00  45.92 MB/s\nbranca-0.3.1-p 100% |################################| Time: 0:00:00  34.71 MB/s\nvincent-0.4.4- 100% |################################| Time: 0:00:00  39.51 MB/s\nfolium-0.5.0-p 100% |################################| Time: 0:00:00  45.48 MB/s\nLibraries imported\n"
                }
            ], 
            "source": "# Create a map of Toronto \n! conda install -c conda-forge geopy --yes \nfrom geopy.geocoders import Nominatim \nimport matplotlib.cm as cm \nimport matplotlib.colors as colors \nfrom sklearn.cluster import KMeans \n! conda install -c conda-forge folium=0.5.0 --yes \nimport folium \nprint('Libraries imported')"
        }, 
        {
            "execution_count": 17, 
            "cell_type": "code", 
            "metadata": {}, 
            "outputs": [
                {
                    "execution_count": 17, 
                    "metadata": {}, 
                    "data": {
                        "text/plain": "Index(['Postalcode', 'Borough', 'Neighbourhood', 'Latitude', 'Longitude'], dtype='object')"
                    }, 
                    "output_type": "execute_result"
                }
            ], 
            "source": "neighborhood.columns"
        }, 
        {
            "execution_count": 18, 
            "cell_type": "code", 
            "metadata": {}, 
            "outputs": [
                {
                    "output_type": "stream", 
                    "name": "stdout", 
                    "text": "The geographical coordinates of Toronto are 43.653963, -79.387207.\n"
                }
            ], 
            "source": "address = 'Toronto, ON'\n\ngeolocator = Nominatim(user_agent=\"ny_explore\")\nlocation = geolocator.geocode(address)\nlatitude = location.latitude \nlongitude = location.longitude \nprint('The geographical coordinates of Toronto are {}, {}.'.format(latitude, longitude))"
        }, 
        {
            "execution_count": 19, 
            "cell_type": "code", 
            "metadata": {}, 
            "outputs": [], 
            "source": "# Create the map of Toronto using the coordinate values \nmap_toronto = folium.Map(location = [latitude, longitude], zoom_start=10)\n\n# add markers to map \nfor lat, lng, borough, neighborhoods in zip(neighborhood['Latitude'], neighborhood['Longitude'], \n                                           neighborhood['Borough'], neighborhood['Neighbourhood']):\n    label = '{}, {}'.format(neighborhood, borough)\n    label = folium.Popup(label, parse_html = True)\n    folium.CircleMarker(\n    [lat,lng],\n    raduis=5,\n    popup=label,\n    color='blue',\n    fill=True,\n    fill_color='#3186cc',\n    fill_opacity=0.7,\n    parse_html=False).add_to(map_toronto)\n    \n    map_toronto "
        }, 
        {
            "execution_count": 20, 
            "cell_type": "code", 
            "metadata": {
                "scrolled": true
            }, 
            "outputs": [
                {
                    "execution_count": 20, 
                    "metadata": {}, 
                    "data": {
                        "text/html": "<div>\n<style scoped>\n    .dataframe tbody tr th:only-of-type {\n        vertical-align: middle;\n    }\n\n    .dataframe tbody tr th {\n        vertical-align: top;\n    }\n\n    .dataframe thead th {\n        text-align: right;\n    }\n</style>\n<table border=\"1\" class=\"dataframe\">\n  <thead>\n    <tr style=\"text-align: right;\">\n      <th></th>\n      <th>Postalcode</th>\n      <th>Neighbourhood</th>\n      <th>Latitude</th>\n      <th>Longitude</th>\n    </tr>\n    <tr>\n      <th>Borough</th>\n      <th></th>\n      <th></th>\n      <th></th>\n      <th></th>\n    </tr>\n  </thead>\n  <tbody>\n    <tr>\n      <th>Central Toronto</th>\n      <td>9</td>\n      <td>9</td>\n      <td>9</td>\n      <td>9</td>\n    </tr>\n    <tr>\n      <th>Downtown Toronto</th>\n      <td>18</td>\n      <td>18</td>\n      <td>18</td>\n      <td>18</td>\n    </tr>\n    <tr>\n      <th>East Toronto</th>\n      <td>5</td>\n      <td>5</td>\n      <td>5</td>\n      <td>5</td>\n    </tr>\n    <tr>\n      <th>East York</th>\n      <td>5</td>\n      <td>5</td>\n      <td>5</td>\n      <td>5</td>\n    </tr>\n    <tr>\n      <th>Etobicoke</th>\n      <td>12</td>\n      <td>12</td>\n      <td>12</td>\n      <td>12</td>\n    </tr>\n    <tr>\n      <th>Mississauga</th>\n      <td>1</td>\n      <td>1</td>\n      <td>1</td>\n      <td>1</td>\n    </tr>\n    <tr>\n      <th>North York</th>\n      <td>24</td>\n      <td>24</td>\n      <td>24</td>\n      <td>24</td>\n    </tr>\n    <tr>\n      <th>Queen's Park</th>\n      <td>1</td>\n      <td>1</td>\n      <td>1</td>\n      <td>1</td>\n    </tr>\n    <tr>\n      <th>Scarborough</th>\n      <td>17</td>\n      <td>17</td>\n      <td>17</td>\n      <td>17</td>\n    </tr>\n    <tr>\n      <th>West Toronto</th>\n      <td>6</td>\n      <td>6</td>\n      <td>6</td>\n      <td>6</td>\n    </tr>\n    <tr>\n      <th>York</th>\n      <td>5</td>\n      <td>5</td>\n      <td>5</td>\n      <td>5</td>\n    </tr>\n  </tbody>\n</table>\n</div>", 
                        "text/plain": "                  Postalcode  Neighbourhood  Latitude  Longitude\nBorough                                                         \nCentral Toronto            9              9         9          9\nDowntown Toronto          18             18        18         18\nEast Toronto               5              5         5          5\nEast York                  5              5         5          5\nEtobicoke                 12             12        12         12\nMississauga                1              1         1          1\nNorth York                24             24        24         24\nQueen's Park               1              1         1          1\nScarborough               17             17        17         17\nWest Toronto               6              6         6          6\nYork                       5              5         5          5"
                    }, 
                    "output_type": "execute_result"
                }
            ], 
            "source": "neighborhood.groupby(\"Borough\").count()"
        }, 
        {
            "execution_count": 21, 
            "cell_type": "code", 
            "metadata": {}, 
            "outputs": [
                {
                    "execution_count": 21, 
                    "metadata": {}, 
                    "data": {
                        "text/html": "<div>\n<style scoped>\n    .dataframe tbody tr th:only-of-type {\n        vertical-align: middle;\n    }\n\n    .dataframe tbody tr th {\n        vertical-align: top;\n    }\n\n    .dataframe thead th {\n        text-align: right;\n    }\n</style>\n<table border=\"1\" class=\"dataframe\">\n  <thead>\n    <tr style=\"text-align: right;\">\n      <th></th>\n      <th>Postalcode</th>\n      <th>Borough</th>\n      <th>Neighbourhood</th>\n      <th>Latitude</th>\n      <th>Longitude</th>\n    </tr>\n  </thead>\n  <tbody>\n    <tr>\n      <th>0</th>\n      <td>M2H</td>\n      <td>North York</td>\n      <td>Hillcrest Village</td>\n      <td>43.803762</td>\n      <td>-79.363452</td>\n    </tr>\n    <tr>\n      <th>1</th>\n      <td>M2J</td>\n      <td>North York</td>\n      <td>Oriole,Henry Farm,Fairview</td>\n      <td>43.778517</td>\n      <td>-79.346556</td>\n    </tr>\n    <tr>\n      <th>2</th>\n      <td>M2K</td>\n      <td>North York</td>\n      <td>Bayview Village</td>\n      <td>43.786947</td>\n      <td>-79.385975</td>\n    </tr>\n    <tr>\n      <th>3</th>\n      <td>M2L</td>\n      <td>North York</td>\n      <td>York Mills,Silver Hills</td>\n      <td>43.757490</td>\n      <td>-79.374714</td>\n    </tr>\n    <tr>\n      <th>4</th>\n      <td>M2M</td>\n      <td>North York</td>\n      <td>Newtonbrook,Willowdale</td>\n      <td>43.789053</td>\n      <td>-79.408493</td>\n    </tr>\n  </tbody>\n</table>\n</div>", 
                        "text/plain": "  Postalcode     Borough               Neighbourhood   Latitude  Longitude\n0        M2H  North York           Hillcrest Village  43.803762 -79.363452\n1        M2J  North York  Oriole,Henry Farm,Fairview  43.778517 -79.346556\n2        M2K  North York             Bayview Village  43.786947 -79.385975\n3        M2L  North York     York Mills,Silver Hills  43.757490 -79.374714\n4        M2M  North York      Newtonbrook,Willowdale  43.789053 -79.408493"
                    }, 
                    "output_type": "execute_result"
                }
            ], 
            "source": "# Since North York has the maximum number of neighborhoods, let's segment and cluster it's neighborhoods \nnorthyork_data = neighborhood[neighborhood['Borough']=='North York'].reset_index(drop=True)\nnorthyork_data.head()"
        }, 
        {
            "execution_count": 22, 
            "cell_type": "code", 
            "metadata": {}, 
            "outputs": [
                {
                    "output_type": "stream", 
                    "name": "stdout", 
                    "text": "The geographical coordinates of York are 43.7709163, -79.4124102.\n"
                }
            ], 
            "source": "# let's plot North York map \naddress = 'North York, ON'\n\ngeolocator = Nominatim(user_agent=\"ny_explorer\")\nlocation = geolocator.geocode(address)\nlatitude = location.latitude \nlongitude = location.longitude \nprint('The geographical coordinates of York are {}, {}.'.format(latitude, longitude))"
        }, 
        {
            "execution_count": 23, 
            "cell_type": "code", 
            "metadata": {}, 
            "outputs": [], 
            "source": "# create the map of North York using the coordinate values \nmap_northyork = folium.Map(location=[latitude, longitude], zoom_start = 10)\n\n# add markers to map \nfor lat, lng, borough, neighborhoods in zip(northyork_data['Latitude'], northyork_data['Longitude'],\n                                           northyork_data['Borough'], northyork_data['Neighbourhood']):\n    label = '{}, {}'.format(neighborhood, borough)\n    label = folium.Popup(label, parse_html = True)\n    folium.CircleMarker(\n    [lat,lng],\n    radius=5,\n    popup=label,\n    color='blue',\n    fill=True,\n    fill_color='#3186cc',\n    fill_opacity=0.7,\n    parse_html=False).add_to(map_northyork)\n    \n    map_northyork "
        }, 
        {
            "execution_count": 24, 
            "cell_type": "code", 
            "metadata": {}, 
            "outputs": [
                {
                    "output_type": "stream", 
                    "name": "stdout", 
                    "text": "Your credentials:\nCLIENT_ID:31DMD01K2VSDHMZ2GWQ5OPWTSFXIRE105JFDN2IW2NEWNISZ\nCLIENT_SECRET:XR4MJA0GY25GFN0O1MG22O1MFYLUVQBRGS4NAAUDKXPNPHRU\n"
                }
            ], 
            "source": "# Foursquare credentials and version \nCLIENT_ID = '31DMD01K2VSDHMZ2GWQ5OPWTSFXIRE105JFDN2IW2NEWNISZ'\nCLIENT_SECRET = 'XR4MJA0GY25GFN0O1MG22O1MFYLUVQBRGS4NAAUDKXPNPHRU'\nVERSION = '20190131'\nLIMIT = 100 \nradius = 500 \nprint('Your credentials:')\nprint('CLIENT_ID:'+ CLIENT_ID)\nprint('CLIENT_SECRET:'+ CLIENT_SECRET)"
        }, 
        {
            "execution_count": 32, 
            "cell_type": "code", 
            "metadata": {}, 
            "outputs": [], 
            "source": "def getNearbyVenues(names, latitudes, longitudes, radius=500):\n    \n    venues_list=[]\n    for name, lat, lng in zip(names, latitudes, longitudes):\n        print(name)\n        \n        # Create the API request URL \n        url = 'https://api.foursquare.com/v2/venues/explore?&client_id={}&client_secret={}&v={}&ll={},{}&radius={}&limit={}'.format(\n        CLIENT_ID,\n        CLIENT_SECRET,\n        VERSION,\n        lat,\n        lng,\n        radius,\n        LIMIT)\n        \n        # Make the GET request \n        results = requests.get(url).json()[\"response\"]['groups'][0]['items']\n        \n        # return only relevant information for each nearby venue\n        venues_list.append([(\n        name,\n        lat,\n        lng,\n        v['venue']['name'],\n        v['venue']['location']['lat'],\n        v['venue']['location']['lng'],\n        v['venue']['categories'][0]['name']) for v in results])\n        \n        nearby_venues = pd.DataFrame([item for venue_list in venues_list for item in venue_list])\n        nearby_venues.columns = ['Neighborhood',\n                                'Neighborhood Latitude',\n                                'Neighborhood Longitude',\n                                'Venue',\n                                'Venue Latitude',\n                                'Venue Longitude',\n                                'Venue Category']\n        return(nearby_venues)"
        }, 
        {
            "execution_count": 33, 
            "cell_type": "code", 
            "metadata": {}, 
            "outputs": [
                {
                    "execution_count": 33, 
                    "metadata": {}, 
                    "data": {
                        "text/plain": "Index(['Postalcode', 'Borough', 'Neighbourhood', 'Latitude', 'Longitude'], dtype='object')"
                    }, 
                    "output_type": "execute_result"
                }
            ], 
            "source": "northyork_data.columns"
        }, 
        {
            "execution_count": 34, 
            "cell_type": "code", 
            "metadata": {}, 
            "outputs": [
                {
                    "output_type": "stream", 
                    "name": "stdout", 
                    "text": "Hillcrest Village\n"
                }
            ], 
            "source": "northyork_venues = getNearbyVenues(names=northyork_data['Neighbourhood'],\n                                  latitudes=northyork_data['Latitude'],\n                                  longitudes=northyork_data['Longitude']\n                                  )"
        }, 
        {
            "execution_count": 57, 
            "cell_type": "code", 
            "metadata": {}, 
            "outputs": [
                {
                    "execution_count": 57, 
                    "metadata": {}, 
                    "data": {
                        "text/plain": "(4, 7)"
                    }, 
                    "output_type": "execute_result"
                }
            ], 
            "source": "northyork_venues.shape "
        }, 
        {
            "execution_count": 58, 
            "cell_type": "code", 
            "metadata": {}, 
            "outputs": [
                {
                    "execution_count": 58, 
                    "metadata": {}, 
                    "data": {
                        "text/html": "<div>\n<style scoped>\n    .dataframe tbody tr th:only-of-type {\n        vertical-align: middle;\n    }\n\n    .dataframe tbody tr th {\n        vertical-align: top;\n    }\n\n    .dataframe thead th {\n        text-align: right;\n    }\n</style>\n<table border=\"1\" class=\"dataframe\">\n  <thead>\n    <tr style=\"text-align: right;\">\n      <th></th>\n      <th>Neighborhood</th>\n      <th>Neighborhood Latitude</th>\n      <th>Neighborhood Longitude</th>\n      <th>Venue</th>\n      <th>Venue Latitude</th>\n      <th>Venue Longitude</th>\n      <th>Venue Category</th>\n    </tr>\n  </thead>\n  <tbody>\n    <tr>\n      <th>0</th>\n      <td>Hillcrest Village</td>\n      <td>43.803762</td>\n      <td>-79.363452</td>\n      <td>Eagle's Nest Golf Club</td>\n      <td>43.805455</td>\n      <td>-79.364186</td>\n      <td>Golf Course</td>\n    </tr>\n    <tr>\n      <th>1</th>\n      <td>Hillcrest Village</td>\n      <td>43.803762</td>\n      <td>-79.363452</td>\n      <td>AY Jackson Pool</td>\n      <td>43.804515</td>\n      <td>-79.366138</td>\n      <td>Pool</td>\n    </tr>\n    <tr>\n      <th>2</th>\n      <td>Hillcrest Village</td>\n      <td>43.803762</td>\n      <td>-79.363452</td>\n      <td>Villa Madina</td>\n      <td>43.801685</td>\n      <td>-79.363938</td>\n      <td>Mediterranean Restaurant</td>\n    </tr>\n    <tr>\n      <th>3</th>\n      <td>Hillcrest Village</td>\n      <td>43.803762</td>\n      <td>-79.363452</td>\n      <td>Duncan Creek Park</td>\n      <td>43.805539</td>\n      <td>-79.360695</td>\n      <td>Dog Run</td>\n    </tr>\n  </tbody>\n</table>\n</div>", 
                        "text/plain": "        Neighborhood  Neighborhood Latitude  Neighborhood Longitude  \\\n0  Hillcrest Village              43.803762              -79.363452   \n1  Hillcrest Village              43.803762              -79.363452   \n2  Hillcrest Village              43.803762              -79.363452   \n3  Hillcrest Village              43.803762              -79.363452   \n\n                    Venue  Venue Latitude  Venue Longitude  \\\n0  Eagle's Nest Golf Club       43.805455       -79.364186   \n1         AY Jackson Pool       43.804515       -79.366138   \n2            Villa Madina       43.801685       -79.363938   \n3       Duncan Creek Park       43.805539       -79.360695   \n\n             Venue Category  \n0               Golf Course  \n1                      Pool  \n2  Mediterranean Restaurant  \n3                   Dog Run  "
                    }, 
                    "output_type": "execute_result"
                }
            ], 
            "source": "northyork_venues.head()"
        }, 
        {
            "execution_count": 28, 
            "cell_type": "code", 
            "metadata": {}, 
            "outputs": [
                {
                    "output_type": "stream", 
                    "name": "stdout", 
                    "text": "There are  4 unique categories.\n"
                }
            ], 
            "source": "# Let's know how many unique venue category \nprint('There are  {} unique categories.'.format(len(northyork_venues['Venue Category'].unique())))"
        }, 
        {
            "execution_count": 30, 
            "cell_type": "code", 
            "metadata": {}, 
            "outputs": [], 
            "source": "# Let's cluster based on Neighborhoods \n\n# one hot encoding \nnorthyork_onehot = pd.get_dummies(northyork_venues[['Venue Category']], prefix = \"\", prefix_sep =\"\")\n\n# add Neighborhood column back to dataframe \nnorthyork_onehot['Neighborhood'] = northyork_venues['Neighborhood']\n\n# Move neighborhood column to the first column \nfixed_columns = [northyork_onehot.columns[-1]]+list(northyork_onehot.columns[:-1])\nnorthyork_onehot = northyork_onehot[fixed_columns]\n\nnorthyork_grouped = northyork_onehot.groupby('Neighborhood').mean().reset_index()"
        }, 
        {
            "execution_count": 31, 
            "cell_type": "code", 
            "metadata": {}, 
            "outputs": [
                {
                    "execution_count": 31, 
                    "metadata": {}, 
                    "data": {
                        "text/html": "<div>\n<style scoped>\n    .dataframe tbody tr th:only-of-type {\n        vertical-align: middle;\n    }\n\n    .dataframe tbody tr th {\n        vertical-align: top;\n    }\n\n    .dataframe thead th {\n        text-align: right;\n    }\n</style>\n<table border=\"1\" class=\"dataframe\">\n  <thead>\n    <tr style=\"text-align: right;\">\n      <th></th>\n      <th>Neighborhood</th>\n      <th>Dog Run</th>\n      <th>Golf Course</th>\n      <th>Mediterranean Restaurant</th>\n      <th>Pool</th>\n    </tr>\n  </thead>\n  <tbody>\n    <tr>\n      <th>0</th>\n      <td>Hillcrest Village</td>\n      <td>0.25</td>\n      <td>0.25</td>\n      <td>0.25</td>\n      <td>0.25</td>\n    </tr>\n  </tbody>\n</table>\n</div>", 
                        "text/plain": "        Neighborhood  Dog Run  Golf Course  Mediterranean Restaurant  Pool\n0  Hillcrest Village     0.25         0.25                      0.25  0.25"
                    }, 
                    "output_type": "execute_result"
                }
            ], 
            "source": "northyork_grouped.head()"
        }, 
        {
            "execution_count": null, 
            "cell_type": "code", 
            "metadata": {}, 
            "outputs": [], 
            "source": ""
        }
    ], 
    "metadata": {
        "kernelspec": {
            "display_name": "Python 3.5", 
            "name": "python3", 
            "language": "python"
        }, 
        "language_info": {
            "mimetype": "text/x-python", 
            "nbconvert_exporter": "python", 
            "version": "3.5.5", 
            "name": "python", 
            "file_extension": ".py", 
            "pygments_lexer": "ipython3", 
            "codemirror_mode": {
                "version": 3, 
                "name": "ipython"
            }
        }
    }, 
    "nbformat": 4
}